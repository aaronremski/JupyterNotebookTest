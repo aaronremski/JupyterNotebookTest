{
 "cells": [
  {
   "cell_type": "markdown",
   "metadata": {},
   "source": [
    "# Jupyter Notebook, using Git/Github\n",
    "## How are changes tracked & merged utilizing notebooks & git"
   ]
  },
  {
   "cell_type": "code",
   "execution_count": 6,
   "metadata": {},
   "outputs": [],
   "source": [
    "import pandas as pd\n",
    "from bs4 import BeautifulSoup"
   ]
  },
  {
   "cell_type": "code",
   "execution_count": 2,
   "metadata": {},
   "outputs": [],
   "source": [
    "title_list_test = [\n",
    " 'The_Wizard_of_Oz_(1939_film)',\n",
    " 'Citizen_Kane',\n",
    " 'The_Third_Man',\n",
    " 'Get_Out_(film)',\n",
    " 'Mad_Max:_Fury_Road',\n",
    " 'The_Cabinet_of_Dr._Caligari']"
   ]
  },
  {
   "cell_type": "code",
   "execution_count": 3,
   "metadata": {},
   "outputs": [
    {
     "data": {
      "text/plain": [
       "['The_Wizard_of_Oz_(1939_film)', 'Citizen_Kane', 'The_Third_Man', 'Get_Out_(film)', 'Mad_Max:_Fury_Road', 'The_Cabinet_of_Dr._Caligari']"
      ]
     },
     "execution_count": 3,
     "metadata": {},
     "output_type": "execute_result"
    }
   ],
   "source": [
    "title_list_test"
   ]
  },
  {
   "cell_type": "code",
   "execution_count": 4,
   "metadata": {},
   "outputs": [
    {
     "name": "stdout",
     "output_type": "stream",
     "text": [
      "The_Wizard_of_Oz_(1939_film)\n",
      "Citizen_Kane\n",
      "The_Third_Man\n",
      "Get_Out_(film)\n",
      "Mad_Max:_Fury_Road\n",
      "The_Cabinet_of_Dr._Caligari\n"
     ]
    }
   ],
   "source": [
    "for title in title_list_test:\n",
    "    print(title)"
   ]
  },
  {
   "cell_type": "code",
   "execution_count": 7,
   "metadata": {},
   "outputs": [],
   "source": [
    "with open('rt-html/et_the_extraterrestrial.html') as file:\n",
    "    soup = BeautifulSoup(file, 'lxml')"
   ]
  },
  {
   "cell_type": "code",
   "execution_count": 8,
   "metadata": {},
   "outputs": [
    {
     "data": {
      "text/plain": [
       "'E.T. The Extra-Terrestrial\\xa0(1982)'"
      ]
     },
     "execution_count": 8,
     "metadata": {},
     "output_type": "execute_result"
    }
   ],
   "source": [
    "soup.find('title').contents[0][:-len(' - Rotten Tomatoes')]"
   ]
  },
  {
   "cell_type": "code",
   "execution_count": 9,
   "metadata": {},
   "outputs": [],
   "source": [
    "df_list = []\n",
    "folder = 'rt_html-test'\n",
    "with open('rt-html/et_the_extraterrestrial.html') as file:\n",
    "    soup = BeautifulSoup(file, 'lxml')"
   ]
  },
  {
   "cell_type": "markdown",
   "metadata": {},
   "source": [
    "# Title"
   ]
  },
  {
   "cell_type": "code",
   "execution_count": 10,
   "metadata": {},
   "outputs": [
    {
     "data": {
      "text/plain": [
       "'E.T. The Extra-Terrestrial\\xa0(1982)'"
      ]
     },
     "execution_count": 10,
     "metadata": {},
     "output_type": "execute_result"
    }
   ],
   "source": [
    "html_title = soup.find('title').contents[0][:-len(' - Rotten Tomatoes')]\n",
    "html_title"
   ]
  },
  {
   "cell_type": "markdown",
   "metadata": {},
   "source": [
    "# Audience Score"
   ]
  },
  {
   "cell_type": "code",
   "execution_count": 11,
   "metadata": {},
   "outputs": [
    {
     "data": {
      "text/plain": [
       "'72'"
      ]
     },
     "execution_count": 11,
     "metadata": {},
     "output_type": "execute_result"
    }
   ],
   "source": [
    "meter_vals = soup.find(\"div\", class_=\"meter-value\")\n",
    "meter_vals_txt = meter_vals.get_text().strip()\n",
    "audience_score = meter_vals_txt[:len(meter_vals_txt)-1]\n",
    "audience_score"
   ]
  },
  {
   "cell_type": "markdown",
   "metadata": {},
   "source": [
    "# No. User/Audience Ratings"
   ]
  },
  {
   "cell_type": "code",
   "execution_count": 13,
   "metadata": {},
   "outputs": [
    {
     "data": {
      "text/plain": [
       "32313030"
      ]
     },
     "execution_count": 13,
     "metadata": {},
     "output_type": "execute_result"
    }
   ],
   "source": [
    "ratings_tags = soup.find(\"div\", class_=\"audience-info hidden-xs superPageFontColor\")\n",
    "ratings = ratings_tags.get_text()\n",
    "start = ratings.find(\"User Ratings:\")\n",
    "audience_ratings = int(ratings[start+13:].strip().replace(',', \"\"))\n",
    "audience_ratings"
   ]
  },
  {
   "cell_type": "code",
   "execution_count": null,
   "metadata": {},
   "outputs": [],
   "source": []
  }
 ],
 "metadata": {
  "kernelspec": {
   "display_name": "Python [conda env:Anaconda3-udacity]",
   "language": "python",
   "name": "conda-env-Anaconda3-udacity-xpython"
  },
  "language_info": {
   "file_extension": ".py",
   "mimetype": "text/x-python",
   "name": "python",
   "version": "3.6.11"
  }
 },
 "nbformat": 4,
 "nbformat_minor": 4
}
